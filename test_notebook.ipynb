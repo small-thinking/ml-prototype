{
 "cells": [
  {
   "cell_type": "markdown",
   "metadata": {},
   "source": [
    "## Test Only"
   ]
  },
  {
   "cell_type": "code",
   "execution_count": 4,
   "metadata": {},
   "outputs": [],
   "source": [
    "import torch\n",
    "import torch.nn.functional as F"
   ]
  },
  {
   "cell_type": "markdown",
   "metadata": {},
   "source": [
    "## Load snappy parquet"
   ]
  },
  {
   "cell_type": "code",
   "execution_count": 16,
   "metadata": {},
   "outputs": [
    {
     "name": "stdout",
     "output_type": "stream",
     "text": [
      "Index(['age', 'user rating', 'number of conversations', 'creativity', 'energy',\n",
      "       'speed', 'strength', 'voice id', 'sarcasm level', 'humor level',\n",
      "       'politeness level', 'emotional range', 'speech style', 'moral level',\n",
      "       'occupation', 'personality', 'gender'],\n",
      "      dtype='object')\n",
      "        age  user rating  number of conversations  creativity  energy   speed  \\\n",
      "0  24918611     1.175968                  9483350         379   71998  411308   \n",
      "1  31671782     3.760094                  2021807         686   19670  243713   \n",
      "2  85260317     2.593144                  4433147         922   61021   45108   \n",
      "3  50338035     4.670698                  7594932         592    8052  334363   \n",
      "4  90007500     1.399313                   501337         278   71171   55043   \n",
      "\n",
      "   strength  voice id  sarcasm level  humor level  politeness level  \\\n",
      "0     56889  74625846              0            3                 2   \n",
      "1     33006  96424650              4            7                 9   \n",
      "2     47477  29081750              4            2                 9   \n",
      "3     77292  44625233              8            0                 4   \n",
      "4     42080   9232572              4            2                 1   \n",
      "\n",
      "   emotional range  speech style  moral level  occupation  personality  gender  \n",
      "0                7           553            3           3            1       2  \n",
      "1                7           986            8           2            1       1  \n",
      "2                1           378            9           3            1       2  \n",
      "3                4           455            5           1            2       1  \n",
      "4                9           772            7           1            5       3  \n"
     ]
    }
   ],
   "source": [
    "# Load the snappy parquet data\n",
    "import pyarrow.parquet as pq\n",
    "import pandas as pd\n",
    "import os\n",
    "import yaml\n",
    "\n",
    "# Load the data\n",
    "data_dir = os.path.expanduser('~/Downloads/data/characters.snappy.parquet')\n",
    "table = pq.read_table(data_dir)\n",
    "df = table.to_pandas()\n",
    "# Peep the columns and data according to the column config in config.yaml\n",
    "yaml_file = './ml_prototype/mm_embedding/config.yaml'\n",
    "with open(yaml_file, 'r') as f:\n",
    "    config = yaml.safe_load(f)\n",
    "    columns = [col[\"name\"] for col in config[\"my_config\"][\"data_module\"][\"columns\"]]\n",
    "    df = df[columns]\n",
    "    print(df.columns)\n",
    "    print(df.head())"
   ]
  },
  {
   "cell_type": "code",
   "execution_count": 10,
   "metadata": {},
   "outputs": [
    {
     "name": "stdout",
     "output_type": "stream",
     "text": [
      "torch.Size([3, 1])\n",
      "torch.Size([3, 1, 4])\n",
      "tensor([[[0, 1, 0, 0]],\n",
      "\n",
      "        [[0, 0, 1, 0]],\n",
      "\n",
      "        [[0, 0, 0, 1]]])\n",
      "tensor([[0, 1, 0, 0]])\n",
      "tensor([[0, 1, 0, 0],\n",
      "        [0, 0, 1, 0],\n",
      "        [0, 0, 0, 1]])\n"
     ]
    }
   ],
   "source": [
    "input_data = torch.tensor([\n",
    "            [1], [2], [3]\n",
    "        ])\n",
    "print(input_data.shape)\n",
    "res = F.one_hot(input_data, num_classes=4)\n",
    "print(res.shape)\n",
    "\n",
    "print(res)\n",
    "print(res[0])\n",
    "print(res.squeeze(1))"
   ]
  },
  {
   "cell_type": "code",
   "execution_count": null,
   "metadata": {},
   "outputs": [],
   "source": []
  }
 ],
 "metadata": {
  "kernelspec": {
   "display_name": "ml",
   "language": "python",
   "name": "python3"
  },
  "language_info": {
   "codemirror_mode": {
    "name": "ipython",
    "version": 3
   },
   "file_extension": ".py",
   "mimetype": "text/x-python",
   "name": "python",
   "nbconvert_exporter": "python",
   "pygments_lexer": "ipython3",
   "version": "3.11.10"
  }
 },
 "nbformat": 4,
 "nbformat_minor": 2
}
